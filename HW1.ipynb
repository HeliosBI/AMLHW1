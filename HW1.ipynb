{
 "cells": [
  {
   "cell_type": "markdown",
   "metadata": {},
   "source": [
    "Преподаватель: Алексей Кузьмин\n",
    "\n",
    "Условие: Задача состоит в модификации кода градиентного спуска для задачи регрессии (ноутбук лекции - Gradient_descent.ipynb).   \n",
    "\n",
    "Необходимо, чтобы ваш градиентный спуск мог решать задачи классификации, а именно линейной классификации и логистической регрессии.  \n",
    "\n",
    "На всякий случай напомню, что код будет разный, поэтому жду от вас две функции градиентного спуска.  \n",
    "\n",
    "Решение задачи можете найти в этой статье - https://dyakonov.org/2018/03/12/логистическая-функция-ошибки/. Там указан необходимый лосс и градиент\"\n"
   ]
  },
  {
   "cell_type": "code",
   "execution_count": 1,
   "metadata": {},
   "outputs": [
    {
     "name": "stderr",
     "output_type": "stream",
     "text": [
      "c:\\users\\frenzzzzy\\appdata\\local\\programs\\python\\python38\\lib\\site-packages\\sklearn\\utils\\deprecation.py:143: FutureWarning: The sklearn.datasets.samples_generator module is  deprecated in version 0.22 and will be removed in version 0.24. The corresponding classes / functions should instead be imported from sklearn.datasets. Anything that cannot be imported from sklearn.datasets is now part of the private API.\n",
      "  warnings.warn(message, FutureWarning)\n"
     ]
    }
   ],
   "source": [
    "import numpy as np\n",
    "import random\n",
    "from sklearn.datasets.samples_generator import make_regression \n",
    "import pylab\n",
    "from scipy import stats"
   ]
  },
  {
   "cell_type": "code",
   "execution_count": 2,
   "metadata": {},
   "outputs": [],
   "source": [
    "# генерируем случайные данные\n",
    "x, y = make_regression(n_samples=100, n_features=1, n_informative=1, \n",
    "                        random_state=0, noise=35)"
   ]
  },
  {
   "cell_type": "code",
   "execution_count": 3,
   "metadata": {},
   "outputs": [
    {
     "data": {
      "image/png": "[encoded data removed]",
      "text/plain": [
       "<Figure size 432x288 with 1 Axes>"
      ]
     },
     "metadata": {
      "needs_background": "light"
     },
     "output_type": "display_data"
    }
   ],
   "source": [
    "# посмотрим что получилось\n",
    "\n",
    "pylab.plot(x, y, 'o')\n",
    "pylab.show()"
   ]
  },
  {
   "cell_type": "code",
   "execution_count": 4,
   "metadata": {},
   "outputs": [
    {
     "data": {
      "text/plain": [
       "(100, 1)"
      ]
     },
     "execution_count": 4,
     "metadata": {},
     "output_type": "execute_result"
    }
   ],
   "source": [
    "# размер данных\n",
    "\n",
    "m, n = np.shape(x)\n",
    "m, n"
   ]
  },
  {
   "cell_type": "code",
   "execution_count": 5,
   "metadata": {},
   "outputs": [
    {
     "data": {
      "text/plain": [
       "array([[ 1.        , -0.35955316],\n",
       "       [ 1.        ,  0.97663904],\n",
       "       [ 1.        ,  0.40234164],\n",
       "       [ 1.        , -0.81314628],\n",
       "       [ 1.        , -0.88778575]])"
      ]
     },
     "execution_count": 5,
     "metadata": {},
     "output_type": "execute_result"
    }
   ],
   "source": [
    "# преобразуем x к следующему виду\n",
    "x = np.c_[ np.ones(m), x]\n",
    "x[:5]"
   ]
  },
  {
   "cell_type": "code",
   "execution_count": 6,
   "metadata": {},
   "outputs": [
    {
     "data": {
      "text/plain": [
       "array([-31.74599395, -28.79914206,  -2.18450294,  28.96679712,\n",
       "       -30.8791169 ])"
      ]
     },
     "execution_count": 6,
     "metadata": {},
     "output_type": "execute_result"
    }
   ],
   "source": [
    "# y лист значений\n",
    "y[:5]"
   ]
  },
  {
   "cell_type": "code",
   "execution_count": 7,
   "metadata": {},
   "outputs": [],
   "source": [
    "# шаг алгоритма\n",
    "alpha = 0.01"
   ]
  },
  {
   "cell_type": "markdown",
   "metadata": {},
   "source": [
    "# логистическая регрессия (до указания на make_blobs)"
   ]
  },
  {
   "cell_type": "code",
   "execution_count": 8,
   "metadata": {},
   "outputs": [],
   "source": [
    "def gradient_descent_logregr(alpha, x, y, numIterations):\n",
    "    \"\"\"\n",
    "    Функция реализует алгоритм градиентного спуска. На каждом шаге выводится значение функции потерь\n",
    "    \"\"\"\n",
    "    \n",
    "    m = x.shape[0] # 100\n",
    "    theta = np.ones(2) # [ 1.  1.] ВЕСА МОДЕЛИ!!!\n",
    "    x_transpose = x.transpose() # транспонированная матрица x\n",
    "    \n",
    "    for iter in range( 0, numIterations ):\n",
    "        hypothesis = 1/(1+np.exp(-1*(np.dot(x, theta)))) # сигмоида от матричного произведения\n",
    "        \n",
    "        loss = -(1 / m) * np.sum(y * np.log(hypothesis) + (1 - y) * np.log(1 - hypothesis))\n",
    "\n",
    "# расчет accuracy модели\n",
    "        correct = 0\n",
    "        length = len(x)\n",
    "        prediction = (1/(1+np.exp(-1*(np.dot(x, theta)))) > 0.5)\n",
    "        _y = (y > 0).astype(int)\n",
    "        correct = prediction == _y\n",
    "        my_accuracy = (np.sum(correct) / length)*100\n",
    "#         print ('LR Accuracy %: ', my_accuracy)\n",
    "#         print(iter, loss)\n",
    "        \n",
    "        gradient = (1 / m) * np.dot(x.T, hypothesis - y)       \n",
    "        theta = theta - alpha * gradient  # update\n",
    "    \n",
    "    print ('LR Accuracy %: ', my_accuracy)\n",
    "    return theta"
   ]
  },
  {
   "cell_type": "code",
   "execution_count": 9,
   "metadata": {
    "scrolled": true
   },
   "outputs": [
    {
     "name": "stdout",
     "output_type": "stream",
     "text": [
      "LR Accuracy %:  77.0\n",
      "Wall time: 14 ms\n"
     ]
    },
    {
     "name": "stderr",
     "output_type": "stream",
     "text": [
      "<ipython-input-8-0af125a09b8b>:13: RuntimeWarning: divide by zero encountered in log\n",
      "  loss = -(1 / m) * np.sum(y * np.log(hypothesis) + (1 - y) * np.log(1 - hypothesis))\n",
      "c:\\users\\frenzzzzy\\appdata\\local\\programs\\python\\python38\\lib\\site-packages\\numpy\\core\\fromnumeric.py:90: RuntimeWarning: invalid value encountered in reduce\n",
      "  return ufunc.reduce(obj, axis, dtype, out, **passkwargs)\n"
     ]
    }
   ],
   "source": [
    "%%time\n",
    "theta = gradient_descent_logregr(alpha, x, y, 100)"
   ]
  },
  {
   "cell_type": "code",
   "execution_count": 10,
   "metadata": {
    "scrolled": false
   },
   "outputs": [
    {
     "data": {
      "image/png": "[encoded data removed]",
      "text/plain": [
       "<Figure size 432x288 with 1 Axes>"
      ]
     },
     "metadata": {
      "needs_background": "light"
     },
     "output_type": "display_data"
    }
   ],
   "source": [
    "# построим полученную линию из theta\n",
    "for i in range(x.shape[1]):\n",
    "    y_predict = theta[0] + theta[1]*x \n",
    "\n",
    "# посчитаем сигомоиду для предсказаний (определим вероятность классов)\n",
    "p = []\n",
    "\n",
    "for fx in y_predict.T[1]:\n",
    "    logit = 1/(1+np.exp(-1*fx))\n",
    "    p.append(logit)\n",
    "\n",
    "# посчитаем сигомоиду для исходных значений определим вероятность классов)\n",
    "p_original = []\n",
    "\n",
    "for fx in y:\n",
    "    logit = 1/(1+np.exp(-1*fx))\n",
    "    p_original.append(logit)\n",
    "    \n",
    "# рисуем результат\n",
    "pylab.plot(y,p_original,'o', color='c', label='p реальных классов')\n",
    "pylab.plot(y_predict.T[1],p,'o', color='b', label='p предсказанных классов')\n",
    "pylab.xlabel('fx')\n",
    "pylab.ylabel('p')\n",
    "pylab.legend(loc='upper left')\n",
    "pylab.show()"
   ]
  },
  {
   "cell_type": "markdown",
   "metadata": {},
   "source": [
    "# make_blobs"
   ]
  },
  {
   "cell_type": "code",
   "execution_count": 12,
   "metadata": {},
   "outputs": [],
   "source": [
    "from sklearn.datasets import make_blobs"
   ]
  },
  {
   "cell_type": "code",
   "execution_count": 13,
   "metadata": {},
   "outputs": [],
   "source": [
    "x, y = make_blobs(n_samples=100, centers=2, n_features=1, random_state=0)"
   ]
  },
  {
   "cell_type": "code",
   "execution_count": 14,
   "metadata": {},
   "outputs": [
    {
     "data": {
      "image/png": "[encoded data removed]",
      "text/plain": [
       "<Figure size 432x288 with 1 Axes>"
      ]
     },
     "metadata": {
      "needs_background": "light"
     },
     "output_type": "display_data"
    }
   ],
   "source": [
    "pylab.plot(x, y, 'o')\n",
    "pylab.show()"
   ]
  },
  {
   "cell_type": "code",
   "execution_count": 15,
   "metadata": {},
   "outputs": [
    {
     "data": {
      "text/plain": [
       "(100, 1)"
      ]
     },
     "execution_count": 15,
     "metadata": {},
     "output_type": "execute_result"
    }
   ],
   "source": [
    "# размер данных\n",
    "\n",
    "m, n = np.shape(x)\n",
    "m, n"
   ]
  },
  {
   "cell_type": "code",
   "execution_count": 16,
   "metadata": {},
   "outputs": [
    {
     "data": {
      "text/plain": [
       "array([[1.        , 6.18693802],\n",
       "       [1.        , 2.47034915],\n",
       "       [1.        , 1.42013331],\n",
       "       [1.        , 0.87305123],\n",
       "       [1.        , 4.51206231]])"
      ]
     },
     "execution_count": 16,
     "metadata": {},
     "output_type": "execute_result"
    }
   ],
   "source": [
    "# преобразуем x к следующему виду\n",
    "x = np.c_[ np.ones(m), x]\n",
    "x[:5]"
   ]
  },
  {
   "cell_type": "code",
   "execution_count": 17,
   "metadata": {},
   "outputs": [
    {
     "data": {
      "text/plain": [
       "array([1, 0, 0, 0, 1])"
      ]
     },
     "execution_count": 17,
     "metadata": {},
     "output_type": "execute_result"
    }
   ],
   "source": [
    "# y лист значений\n",
    "y[:5]"
   ]
  },
  {
   "cell_type": "code",
   "execution_count": 18,
   "metadata": {},
   "outputs": [],
   "source": [
    "# шаг алгоритма\n",
    "alpha = 0.01"
   ]
  },
  {
   "cell_type": "code",
   "execution_count": 19,
   "metadata": {},
   "outputs": [],
   "source": [
    "def gradient_descent_cross_entropy(alpha, x, y, numIterations):\n",
    "    \"\"\"\n",
    "    Функция реализует алгоритм градиентного спуска. На каждом шаге выводится значение функции потерь\n",
    "    \"\"\"\n",
    "    \n",
    "    m = x.shape[0] # 100\n",
    "    theta = np.ones(2) # [ 1.  1.] ВЕСА МОДЕЛИ!!!\n",
    "    x_transpose = x.transpose() # транспонированная матрица x\n",
    "    \n",
    "    for iter in range( 0, numIterations ):\n",
    "        hypothesis = 1/(1+np.exp(-1*(np.dot(x, theta)))) # сигмоида от матричного произведения\n",
    "        \n",
    "        logistic_derivative = hypothesis * (1 - hypothesis)\n",
    "        loss = -(1 / m) * np.sum(y * np.log(hypothesis) + (1 - y) * np.log(1 - hypothesis))\n",
    "        \n",
    "# расчет accuracy модели\n",
    "        correct = 0\n",
    "        length = len(x)\n",
    "        prediction = (1/(1+np.exp(-1*(np.dot(x, theta)))) > 0.5)\n",
    "        _y = y.astype(int)\n",
    "        correct = prediction == _y\n",
    "        my_accuracy = (np.sum(correct) / length)*100\n",
    "#         print ('LR Accuracy %: ', my_accuracy)\n",
    "#         print(iter, loss)\n",
    "#         print(prediction, _y)\n",
    "#         print(theta)\n",
    "        \n",
    "        gradient = (1 / m) * np.dot(x.T, hypothesis - y)       \n",
    "        theta = theta - alpha * gradient  # update\n",
    "#         break\n",
    "    \n",
    "    print ('LR Accuracy %: ', my_accuracy)\n",
    "    return theta"
   ]
  },
  {
   "cell_type": "code",
   "execution_count": 20,
   "metadata": {},
   "outputs": [
    {
     "name": "stdout",
     "output_type": "stream",
     "text": [
      "LR Accuracy %:  85.0\n",
      "Wall time: 92 ms\n"
     ]
    }
   ],
   "source": [
    "%%time\n",
    "theta = gradient_descent_cross_entropy(alpha, x, y, 1000)"
   ]
  },
  {
   "cell_type": "code",
   "execution_count": 21,
   "metadata": {
    "scrolled": true
   },
   "outputs": [
    {
     "data": {
      "image/png": "[encoded data removed]",
      "text/plain": [
       "<Figure size 432x288 with 1 Axes>"
      ]
     },
     "metadata": {
      "needs_background": "light"
     },
     "output_type": "display_data"
    }
   ],
   "source": [
    "# построим полученную линию из theta\n",
    "for i in range(x.shape[1]):\n",
    "    y_predict = theta[0] + theta[1]*x \n",
    "\n",
    "# посчитаем сигомоиду для предсказаний (определим вероятность классов)\n",
    "p = []\n",
    "\n",
    "for fx in y_predict.T[1]:\n",
    "    logit = 1/(1+np.exp(-1*fx))\n",
    "    p.append(logit)\n",
    "\n",
    "# посчитаем сигомоиду для исходных значений определим вероятность классов)\n",
    "p_original = []\n",
    "\n",
    "for fx in y:\n",
    "    logit = 1/(1+np.exp(-1*fx))\n",
    "    p_original.append(logit)\n",
    "    \n",
    "# рисуем результат\n",
    "pylab.plot(y,p_original,'x', color='c', label='p реальных классов')\n",
    "pylab.plot(y_predict.T[1],p,'o', color='b', label='p предсказанных классов')\n",
    "pylab.xlabel('fx')\n",
    "pylab.ylabel('p')\n",
    "pylab.legend(loc='upper left')\n",
    "pylab.show()"
   ]
  },
  {
   "cell_type": "code",
   "execution_count": 22,
   "metadata": {},
   "outputs": [
    {
     "data": {
      "image/png": "[encoded data removed]",
      "text/plain": [
       "<Figure size 432x288 with 1 Axes>"
      ]
     },
     "metadata": {
      "needs_background": "light"
     },
     "output_type": "display_data"
    }
   ],
   "source": [
    "pylab.plot(x.T[1], y, 'o', label='original values')\n",
    "pylab.plot(x.T[1], y_predict.T[1], 'k', label='predicted k-classifier')\n",
    "pylab.ylim(-0.5,1.5)\n",
    "pylab.legend(loc='upper left')\n",
    "pylab.show()"
   ]
  }
 ],
 "metadata": {
  "kernelspec": {
   "display_name": "Python 3",
   "language": "python",
   "name": "python3"
  },
  "language_info": {
   "codemirror_mode": {
    "name": "ipython",
    "version": 3
   },
   "file_extension": ".py",
   "mimetype": "text/x-python",
   "name": "python",
   "nbconvert_exporter": "python",
   "pygments_lexer": "ipython3",
   "version": "3.8.3"
  }
 },
 "nbformat": 4,
 "nbformat_minor": 4
}
